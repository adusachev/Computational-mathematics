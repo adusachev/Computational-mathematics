{
 "cells": [
  {
   "cell_type": "code",
   "execution_count": 2,
   "metadata": {},
   "outputs": [],
   "source": [
    "import numpy as np\n",
    "import matplotlib.pyplot as plt\n",
    "%matplotlib inline"
   ]
  },
  {
   "cell_type": "code",
   "execution_count": null,
   "metadata": {},
   "outputs": [],
   "source": []
  },
  {
   "cell_type": "markdown",
   "metadata": {},
   "source": [
    "## Пример\n",
    "\n",
    "Найти *вторую* производную таблично заданной функции с максимально возможной точностью"
   ]
  },
  {
   "cell_type": "code",
   "execution_count": 3,
   "metadata": {},
   "outputs": [],
   "source": [
    "fi = np.array([5, 7, 8, 10, 11], dtype=float)\n",
    "xi = np.array([1, 2, 3, 4, 5], dtype=float)"
   ]
  },
  {
   "cell_type": "markdown",
   "metadata": {},
   "source": [
    "Метод неопределенных коэффициентов"
   ]
  },
  {
   "cell_type": "code",
   "execution_count": 4,
   "metadata": {},
   "outputs": [
    {
     "data": {
      "text/plain": [
       "5"
      ]
     },
     "execution_count": 4,
     "metadata": {},
     "output_type": "execute_result"
    }
   ],
   "source": [
    "n = len(xi)\n",
    "n"
   ]
  },
  {
   "cell_type": "code",
   "execution_count": 7,
   "metadata": {},
   "outputs": [],
   "source": [
    "x_0 = 3.0\n",
    "# ищем вторую производную в этой точке"
   ]
  },
  {
   "cell_type": "markdown",
   "metadata": {},
   "source": [
    "b -  столбец **вторых** производных базисных функций $ 1, x, x^{2}, x^{3}, x^{4} $\n",
    "\n",
    "в точке $x_0$ = 3.0"
   ]
  },
  {
   "cell_type": "code",
   "execution_count": 8,
   "metadata": {},
   "outputs": [
    {
     "data": {
      "text/plain": [
       "array([  0.,   0.,   2.,  18., 108.])"
      ]
     },
     "execution_count": 8,
     "metadata": {},
     "output_type": "execute_result"
    }
   ],
   "source": [
    "b = np.array([0, 0, 2, 6*x_0, 12*(x_0**2)], dtype=float)\n",
    "b"
   ]
  },
  {
   "cell_type": "code",
   "execution_count": 9,
   "metadata": {},
   "outputs": [
    {
     "data": {
      "text/plain": [
       "array([[1., 1., 1., 1., 1.],\n",
       "       [1., 1., 1., 1., 1.],\n",
       "       [1., 1., 1., 1., 1.],\n",
       "       [1., 1., 1., 1., 1.],\n",
       "       [1., 1., 1., 1., 1.]])"
      ]
     },
     "execution_count": 9,
     "metadata": {},
     "output_type": "execute_result"
    }
   ],
   "source": [
    "A = np.ones((n, n), dtype=float)\n",
    "A"
   ]
  },
  {
   "cell_type": "code",
   "execution_count": 10,
   "metadata": {},
   "outputs": [
    {
     "data": {
      "text/plain": [
       "array([[  1.,   1.,   1.,   1.,   1.],\n",
       "       [  1.,   2.,   3.,   4.,   5.],\n",
       "       [  1.,   4.,   9.,  16.,  25.],\n",
       "       [  1.,   8.,  27.,  64., 125.],\n",
       "       [  1.,  16.,  81., 256., 625.]])"
      ]
     },
     "execution_count": 10,
     "metadata": {},
     "output_type": "execute_result"
    }
   ],
   "source": [
    "for i in range(n):\n",
    "    for j in range(n):\n",
    "        A[i][j] *= (xi[j]**i)\n",
    "A"
   ]
  },
  {
   "cell_type": "code",
   "execution_count": 11,
   "metadata": {},
   "outputs": [
    {
     "data": {
      "text/plain": [
       "array([-0.08333333,  1.33333333, -2.5       ,  1.33333333, -0.08333333])"
      ]
     },
     "execution_count": 11,
     "metadata": {},
     "output_type": "execute_result"
    }
   ],
   "source": [
    "# решаем СЛАУ Ab = c\n",
    "c = np.linalg.solve(A, b)\n",
    "c"
   ]
  },
  {
   "cell_type": "markdown",
   "metadata": {},
   "source": [
    "**Ответ:**"
   ]
  },
  {
   "cell_type": "code",
   "execution_count": 12,
   "metadata": {},
   "outputs": [
    {
     "data": {
      "text/plain": [
       "1.3333333333333228"
      ]
     },
     "execution_count": 12,
     "metadata": {},
     "output_type": "execute_result"
    }
   ],
   "source": [
    "ans = 0\n",
    "for j in range(n):\n",
    "    ans += fi[j]*c[j]\n",
    "ans"
   ]
  },
  {
   "cell_type": "code",
   "execution_count": null,
   "metadata": {},
   "outputs": [],
   "source": []
  },
  {
   "cell_type": "code",
   "execution_count": null,
   "metadata": {},
   "outputs": [],
   "source": []
  },
  {
   "cell_type": "markdown",
   "metadata": {},
   "source": [
    "## Задача\n",
    "\n",
    "Для сеточной функции вычислить производную в точке 1950 с максимально возможной точностью\n",
    "\n",
    "Решим методом неопределенных коэффициентов"
   ]
  },
  {
   "cell_type": "code",
   "execution_count": 13,
   "metadata": {},
   "outputs": [],
   "source": [
    "# сетка и значения функции на ней\n",
    "xi = np.array([1910, 1920, 1930, 1940, 1950, 1960, 1970, 1980, 1990, 2000], dtype=float)\n",
    "fi = np.array([92228496, 106021537, 123202624, 132164569,\n",
    "          151325798, 179323175, 203211926, 226545805,\n",
    "          248709873, 281421906], dtype=float)"
   ]
  },
  {
   "cell_type": "code",
   "execution_count": 14,
   "metadata": {},
   "outputs": [],
   "source": [
    "x_0 = 1950.0"
   ]
  },
  {
   "cell_type": "code",
   "execution_count": 15,
   "metadata": {},
   "outputs": [
    {
     "data": {
      "text/plain": [
       "10"
      ]
     },
     "execution_count": 15,
     "metadata": {},
     "output_type": "execute_result"
    }
   ],
   "source": [
    "n = len(xi)\n",
    "n"
   ]
  },
  {
   "cell_type": "markdown",
   "metadata": {},
   "source": [
    "b -  столбец производных базисных функций $ 1, x, x^{2}, x^{3}, ..., x^{n-1} $, где n = 10\n",
    "\n",
    "вычисленных в точке xo = 1950"
   ]
  },
  {
   "cell_type": "code",
   "execution_count": 16,
   "metadata": {},
   "outputs": [
    {
     "data": {
      "text/plain": [
       "array([0.00000000e+00, 1.00000000e+00, 3.90000000e+03, 1.14075000e+07,\n",
       "       2.96595000e+10, 7.22950312e+13, 1.69170373e+17, 3.84862599e+20,\n",
       "       8.57693792e+23, 1.88156576e+27])"
      ]
     },
     "execution_count": 16,
     "metadata": {},
     "output_type": "execute_result"
    }
   ],
   "source": [
    "b = []\n",
    "for i in range(n):\n",
    "    elem = i * (x_0**(i-1))\n",
    "    b.append(elem)\n",
    "b = np.array(b, dtype=float)\n",
    "b"
   ]
  },
  {
   "cell_type": "code",
   "execution_count": 17,
   "metadata": {},
   "outputs": [],
   "source": [
    "A = np.ones((n, n), dtype=float)"
   ]
  },
  {
   "cell_type": "markdown",
   "metadata": {},
   "source": [
    "A - матрица нашей системы "
   ]
  },
  {
   "cell_type": "code",
   "execution_count": 18,
   "metadata": {},
   "outputs": [
    {
     "data": {
      "text/plain": [
       "array([[1.00000000e+00, 1.00000000e+00, 1.00000000e+00, 1.00000000e+00,\n",
       "        1.00000000e+00, 1.00000000e+00, 1.00000000e+00, 1.00000000e+00,\n",
       "        1.00000000e+00, 1.00000000e+00],\n",
       "       [1.91000000e+03, 1.92000000e+03, 1.93000000e+03, 1.94000000e+03,\n",
       "        1.95000000e+03, 1.96000000e+03, 1.97000000e+03, 1.98000000e+03,\n",
       "        1.99000000e+03, 2.00000000e+03],\n",
       "       [3.64810000e+06, 3.68640000e+06, 3.72490000e+06, 3.76360000e+06,\n",
       "        3.80250000e+06, 3.84160000e+06, 3.88090000e+06, 3.92040000e+06,\n",
       "        3.96010000e+06, 4.00000000e+06],\n",
       "       [6.96787100e+09, 7.07788800e+09, 7.18905700e+09, 7.30138400e+09,\n",
       "        7.41487500e+09, 7.52953600e+09, 7.64537300e+09, 7.76239200e+09,\n",
       "        7.88059900e+09, 8.00000000e+09],\n",
       "       [1.33086336e+13, 1.35895450e+13, 1.38748800e+13, 1.41646850e+13,\n",
       "        1.44590062e+13, 1.47578906e+13, 1.50613848e+13, 1.53695362e+13,\n",
       "        1.56823920e+13, 1.60000000e+13],\n",
       "       [2.54194902e+16, 2.60919263e+16, 2.67785184e+16, 2.74794888e+16,\n",
       "        2.81950622e+16, 2.89254655e+16, 2.96709281e+16, 3.04316816e+16,\n",
       "        3.12079601e+16, 3.20000000e+16],\n",
       "       [4.85512263e+19, 5.00964985e+19, 5.16825405e+19, 5.33102083e+19,\n",
       "        5.49803713e+19, 5.66939124e+19, 5.84517283e+19, 6.02547296e+19,\n",
       "        6.21038406e+19, 6.40000000e+19],\n",
       "       [9.27328422e+22, 9.61852772e+22, 9.97473033e+22, 1.03421804e+23,\n",
       "        1.07211724e+23, 1.11120068e+23, 1.15149905e+23, 1.19304365e+23,\n",
       "        1.23586643e+23, 1.28000000e+23],\n",
       "       [1.77119729e+26, 1.84675732e+26, 1.92512295e+26, 2.00638300e+26,\n",
       "        2.09062862e+26, 2.17795334e+26, 2.26845312e+26, 2.36222642e+26,\n",
       "        2.45937419e+26, 2.56000000e+26],\n",
       "       [3.38298682e+29, 3.54577406e+29, 3.71548730e+29, 3.89238302e+29,\n",
       "        4.07672580e+29, 4.26878854e+29, 4.46885265e+29, 4.67720831e+29,\n",
       "        4.89415464e+29, 5.12000000e+29]])"
      ]
     },
     "execution_count": 18,
     "metadata": {},
     "output_type": "execute_result"
    }
   ],
   "source": [
    "for i in range(n):\n",
    "    for j in range(n):\n",
    "        A[i][j] *= (xi[j]**i)\n",
    "A"
   ]
  },
  {
   "cell_type": "code",
   "execution_count": 19,
   "metadata": {},
   "outputs": [
    {
     "data": {
      "text/plain": [
       "array([-0.01205423,  0.08956539, -0.28073202,  0.45316553, -0.54878398,\n",
       "        0.37964611, -0.05487479, -0.05140185,  0.03085938, -0.00538955])"
      ]
     },
     "execution_count": 19,
     "metadata": {},
     "output_type": "execute_result"
    }
   ],
   "source": [
    "# решаем СЛАУ Ac = b\n",
    "c = np.linalg.solve(A, b)\n",
    "c"
   ]
  },
  {
   "cell_type": "markdown",
   "metadata": {},
   "source": [
    "**Ответ:**"
   ]
  },
  {
   "cell_type": "code",
   "execution_count": 20,
   "metadata": {},
   "outputs": [
    {
     "data": {
      "text/plain": [
       "2086005.638530578"
      ]
     },
     "execution_count": 20,
     "metadata": {},
     "output_type": "execute_result"
    }
   ],
   "source": [
    "ans = 0\n",
    "for j in range(n):\n",
    "    ans += fi[j]*c[j]\n",
    "ans"
   ]
  },
  {
   "cell_type": "code",
   "execution_count": null,
   "metadata": {},
   "outputs": [],
   "source": []
  },
  {
   "cell_type": "code",
   "execution_count": null,
   "metadata": {},
   "outputs": [],
   "source": []
  },
  {
   "cell_type": "code",
   "execution_count": null,
   "metadata": {},
   "outputs": [],
   "source": []
  },
  {
   "cell_type": "code",
   "execution_count": null,
   "metadata": {},
   "outputs": [],
   "source": []
  }
 ],
 "metadata": {
  "kernelspec": {
   "display_name": "Python 3",
   "language": "python",
   "name": "python3"
  },
  "language_info": {
   "codemirror_mode": {
    "name": "ipython",
    "version": 3
   },
   "file_extension": ".py",
   "mimetype": "text/x-python",
   "name": "python",
   "nbconvert_exporter": "python",
   "pygments_lexer": "ipython3",
   "version": "3.7.6"
  }
 },
 "nbformat": 4,
 "nbformat_minor": 4
}
