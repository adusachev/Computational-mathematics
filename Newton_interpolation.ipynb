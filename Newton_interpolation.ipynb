{
 "cells": [
  {
   "cell_type": "code",
   "execution_count": 9,
   "metadata": {},
   "outputs": [],
   "source": [
    "import numpy as np\n",
    "import matplotlib.pyplot as plt\n",
    "%matplotlib inline"
   ]
  },
  {
   "cell_type": "code",
   "execution_count": 10,
   "metadata": {},
   "outputs": [],
   "source": [
    "def diff(xi, f, n):\n",
    "    \"\"\"\n",
    "    xi: сетка(всегда одинакова)\n",
    "    f: список предыдущих разд разностей\n",
    "    n: порядок следующей разд разности\n",
    "    Возвращает список следующих разделенных разностей\n",
    "    \"\"\"\n",
    "    new_f = []\n",
    "    for j in range(len(f)-1):\n",
    "        d = (f[j+1] - f[j]) / (xi[j+n] - xi[j])\n",
    "        new_f.append(d)\n",
    "    return new_f"
   ]
  },
  {
   "cell_type": "code",
   "execution_count": 11,
   "metadata": {},
   "outputs": [],
   "source": [
    "def newton(xi, fi):\n",
    "    \"\"\"\n",
    "    xi: сетка\n",
    "    fi: значения функции на узлах сетки\n",
    "    Возвращает список коэффициентов в формуле метода Ньютона\n",
    "    \"\"\"\n",
    "    n = 1\n",
    "    f = fi\n",
    "    koefs = []\n",
    "    while len(f) > 1:\n",
    "        f = diff(xi, f, n)\n",
    "        n +=1\n",
    "        koefs.append(f[0])\n",
    "    return koefs"
   ]
  },
  {
   "cell_type": "code",
   "execution_count": 12,
   "metadata": {},
   "outputs": [],
   "source": [
    "def inter_polynom_newt(xi, fi, k, t):\n",
    "    \"\"\"\n",
    "    xi: сетка\n",
    "    fi: значения функции на узлах сетки\n",
    "    k: список коэффициентов в формуле метода Ньютона\n",
    "    t: некоторый аргумент\n",
    "    Возвращает значение интерполянта Ньютона на аргументе t\n",
    "    \"\"\"\n",
    "    a = fi[0]\n",
    "    p = 1\n",
    "    for j in range(len(k)):\n",
    "        p *= (t - xi[j])\n",
    "        a += k[j] * p\n",
    "    return a"
   ]
  },
  {
   "cell_type": "code",
   "execution_count": null,
   "metadata": {},
   "outputs": [],
   "source": []
  },
  {
   "cell_type": "code",
   "execution_count": null,
   "metadata": {},
   "outputs": [],
   "source": []
  },
  {
   "cell_type": "code",
   "execution_count": null,
   "metadata": {},
   "outputs": [],
   "source": []
  },
  {
   "cell_type": "markdown",
   "metadata": {},
   "source": [
    "## Пример \n",
    "(с семинара)"
   ]
  },
  {
   "cell_type": "code",
   "execution_count": 13,
   "metadata": {},
   "outputs": [],
   "source": [
    "xi = [2, 3, 4, 5]\n",
    "fi = [7, 5, 8, 7]"
   ]
  },
  {
   "cell_type": "code",
   "execution_count": 14,
   "metadata": {},
   "outputs": [
    {
     "data": {
      "text/plain": [
       "[-2.0, 2.5, -1.5]"
      ]
     },
     "execution_count": 14,
     "metadata": {},
     "output_type": "execute_result"
    }
   ],
   "source": [
    "k = newton(xi, fi)\n",
    "k"
   ]
  },
  {
   "cell_type": "code",
   "execution_count": 15,
   "metadata": {},
   "outputs": [],
   "source": [
    "t = np.linspace(np.min(xi), np.max(xi), 100)\n",
    "p = [inter_polynom_newt(xi, fi, k, ti) for ti in t]"
   ]
  },
  {
   "cell_type": "code",
   "execution_count": 16,
   "metadata": {},
   "outputs": [
    {
     "data": {
      "image/png": "[encoded data removed]",
      "text/plain": [
       "<Figure size 432x288 with 1 Axes>"
      ]
     },
     "metadata": {
      "needs_background": "light"
     },
     "output_type": "display_data"
    }
   ],
   "source": [
    "plt.scatter(xi, fi)\n",
    "plt.plot(t, p, linestyle='--')\n",
    "plt.grid()"
   ]
  },
  {
   "cell_type": "code",
   "execution_count": null,
   "metadata": {},
   "outputs": [],
   "source": []
  },
  {
   "cell_type": "code",
   "execution_count": null,
   "metadata": {},
   "outputs": [],
   "source": []
  },
  {
   "cell_type": "code",
   "execution_count": null,
   "metadata": {},
   "outputs": [],
   "source": []
  },
  {
   "cell_type": "code",
   "execution_count": null,
   "metadata": {},
   "outputs": [],
   "source": []
  },
  {
   "cell_type": "markdown",
   "metadata": {},
   "source": [
    "## Задача 6.9.32"
   ]
  },
  {
   "cell_type": "code",
   "execution_count": 17,
   "metadata": {},
   "outputs": [],
   "source": [
    "xi = np.array([1910, 1920, 1930, 1940, 1950, 1960, 1970, 1980, 1990, 2000], dtype=float)\n",
    "fi = np.array([92228496, 106021537, 123202624, 132164569,\n",
    "          151325798, 179323175, 203211926, 226545805,\n",
    "          248709873, 281421906], dtype=float)"
   ]
  },
  {
   "cell_type": "code",
   "execution_count": 18,
   "metadata": {},
   "outputs": [
    {
     "data": {
      "text/plain": [
       "[1379304.1,\n",
       " 16940.229999999992,\n",
       " -1934.531333333333,\n",
       " 125.10672500000001,\n",
       " -4.150598,\n",
       " 0.08056541666666665,\n",
       " -0.0007564852777777771,\n",
       " -7.564675347222239e-06,\n",
       " 5.099328042328045e-07]"
      ]
     },
     "execution_count": 18,
     "metadata": {},
     "output_type": "execute_result"
    }
   ],
   "source": [
    "k = newton(xi, fi)\n",
    "k"
   ]
  },
  {
   "cell_type": "code",
   "execution_count": 19,
   "metadata": {},
   "outputs": [],
   "source": [
    "t = np.linspace(np.min(xi), np.max(xi), 100)\n",
    "p = [inter_polynom_newt(xi, fi, k, ti) for ti in t]"
   ]
  },
  {
   "cell_type": "code",
   "execution_count": 20,
   "metadata": {},
   "outputs": [
    {
     "data": {
      "image/png": "[encoded data removed]",
      "text/plain": [
       "<Figure size 432x288 with 1 Axes>"
      ]
     },
     "metadata": {
      "needs_background": "light"
     },
     "output_type": "display_data"
    }
   ],
   "source": [
    "fig, axes = plt.subplots()\n",
    "axes.scatter(xi, fi)\n",
    "axes.plot(t, p, linestyle='--')\n",
    "axes.set_xticks(list(range(1910, 2010, 10)))\n",
    "axes.grid()"
   ]
  },
  {
   "cell_type": "code",
   "execution_count": null,
   "metadata": {},
   "outputs": [],
   "source": []
  },
  {
   "cell_type": "code",
   "execution_count": null,
   "metadata": {},
   "outputs": [],
   "source": []
  },
  {
   "cell_type": "markdown",
   "metadata": {},
   "source": [
    "Продолжим график"
   ]
  },
  {
   "cell_type": "code",
   "execution_count": 21,
   "metadata": {},
   "outputs": [],
   "source": [
    "t = np.linspace(np.min(xi), 2010, 100)\n",
    "p = [inter_polynom_newt(xi, fi, k, ti) for ti in t]"
   ]
  },
  {
   "cell_type": "code",
   "execution_count": 22,
   "metadata": {},
   "outputs": [
    {
     "data": {
      "image/png": "[encoded data removed]",
      "text/plain": [
       "<Figure size 432x288 with 1 Axes>"
      ]
     },
     "metadata": {
      "needs_background": "light"
     },
     "output_type": "display_data"
    }
   ],
   "source": [
    "fig, axes = plt.subplots()\n",
    "axes.scatter(xi, fi)\n",
    "axes.plot(t, p, linestyle='--')\n",
    "axes.set_xticks(list(range(1910, 2020, 10)))\n",
    "axes.grid()"
   ]
  },
  {
   "cell_type": "code",
   "execution_count": 23,
   "metadata": {},
   "outputs": [
    {
     "data": {
      "text/plain": [
       "827906509.0000029"
      ]
     },
     "execution_count": 23,
     "metadata": {},
     "output_type": "execute_result"
    }
   ],
   "source": [
    "# значение полинома в точке 2010\n",
    "inter_polynom_newt(xi, fi, k, 2010)"
   ]
  },
  {
   "cell_type": "code",
   "execution_count": null,
   "metadata": {},
   "outputs": [],
   "source": []
  },
  {
   "cell_type": "code",
   "execution_count": null,
   "metadata": {},
   "outputs": [],
   "source": []
  },
  {
   "cell_type": "code",
   "execution_count": null,
   "metadata": {},
   "outputs": [],
   "source": []
  },
  {
   "cell_type": "code",
   "execution_count": null,
   "metadata": {},
   "outputs": [],
   "source": []
  },
  {
   "cell_type": "code",
   "execution_count": null,
   "metadata": {},
   "outputs": [],
   "source": []
  },
  {
   "cell_type": "code",
   "execution_count": null,
   "metadata": {},
   "outputs": [],
   "source": []
  },
  {
   "cell_type": "code",
   "execution_count": null,
   "metadata": {},
   "outputs": [],
   "source": []
  },
  {
   "cell_type": "code",
   "execution_count": null,
   "metadata": {},
   "outputs": [],
   "source": []
  }
 ],
 "metadata": {
  "kernelspec": {
   "display_name": "Python 3",
   "language": "python",
   "name": "python3"
  },
  "language_info": {
   "codemirror_mode": {
    "name": "ipython",
    "version": 3
   },
   "file_extension": ".py",
   "mimetype": "text/x-python",
   "name": "python",
   "nbconvert_exporter": "python",
   "pygments_lexer": "ipython3",
   "version": "3.7.6"
  }
 },
 "nbformat": 4,
 "nbformat_minor": 4
}
