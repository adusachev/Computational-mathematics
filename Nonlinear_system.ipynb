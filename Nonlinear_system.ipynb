{
 "cells": [
  {
   "cell_type": "code",
   "execution_count": 1,
   "metadata": {},
   "outputs": [],
   "source": [
    "import numpy as np\n",
    "import matplotlib.pyplot as plt\n",
    "%matplotlib inline"
   ]
  },
  {
   "cell_type": "markdown",
   "metadata": {},
   "source": [
    "Найти корни системы уравнений:\n",
    "\n",
    "$$  \\left\\{\\begin{matrix} y = tg(x)\n",
    "\\\\\n",
    "x^{2} + y^{2} = 1\n",
    "\\end{matrix}\\right.   $$\n",
    "\n",
    "с точностью $eps = 10^{-6}$"
   ]
  },
  {
   "cell_type": "code",
   "execution_count": 2,
   "metadata": {},
   "outputs": [
    {
     "data": {
      "image/png": "[encoded data removed]",
      "text/plain": [
       "<Figure size 1080x504 with 1 Axes>"
      ]
     },
     "metadata": {
      "needs_background": "light"
     },
     "output_type": "display_data"
    }
   ],
   "source": [
    "plt.figure(figsize=(15, 7))\n",
    "circle1 = plt.Circle((0, 0), 1, color='r', fill=False)\n",
    "x1 = np.linspace(-1.1, 1.1, 1000)\n",
    "y1 = np.tan(x1)\n",
    "plt.plot(x1, y1)\n",
    "\n",
    "ax = plt.gca()\n",
    "ax.add_patch(circle1)\n",
    "plt.axis('scaled')\n",
    "plt.grid()\n",
    "plt.show()"
   ]
  },
  {
   "cell_type": "markdown",
   "metadata": {},
   "source": [
    "Корни симметричны => будем рассматривать только положительные\n",
    "\n",
    "$$ x^{*} \\:\\epsilon \\:[0; 0.7] $$\n",
    "$$ y^{*} \\:\\epsilon \\:[0.5; 1] $$\n",
    "\n",
    "\n"
   ]
  },
  {
   "cell_type": "markdown",
   "metadata": {},
   "source": [
    "$$  \\left\\{\\begin{matrix} x = arctg(y) = \\varphi_{1}(x, y)\n",
    "\\\\\n",
    "y = \\sqrt{1 - x^{2}} = \\varphi_{2}(x, y)\n",
    "\\end{matrix}\\right.   $$\n",
    "\n"
   ]
  },
  {
   "cell_type": "markdown",
   "metadata": {},
   "source": [
    "$$\\left |  \\frac{\\partial \\varphi_{1}}{\\partial x}   \\right | = \n",
    "\\left |  \\frac{\\partial \\varphi_{2}}{\\partial y}   \\right | = 0  < 1 $$\n",
    "\n",
    "$$ \\left |  \\frac{\\partial \\varphi_{1}}{\\partial y}  \\right | = \\frac{1}{1+y^{2}} < 1  $$\n",
    "\n",
    "$$    \\left |  \\frac{\\partial \\varphi_{2}}{\\partial x}   \\right | = \\frac{x}{\\sqrt{1-x^{2}}} < 1 \\: на\\:отрезке\\: [0;\\:0.7]         $$"
   ]
  },
  {
   "cell_type": "code",
   "execution_count": 3,
   "metadata": {},
   "outputs": [],
   "source": [
    "def fi_1(x):\n",
    "    return np.arctan(x)"
   ]
  },
  {
   "cell_type": "code",
   "execution_count": 4,
   "metadata": {},
   "outputs": [],
   "source": [
    "def fi_2(x):\n",
    "    return np.sqrt(1 - x**2)"
   ]
  },
  {
   "cell_type": "code",
   "execution_count": 5,
   "metadata": {},
   "outputs": [],
   "source": [
    "# начальное приближение\n",
    "x0 = 0.5\n",
    "y0 = 0.6"
   ]
  },
  {
   "cell_type": "code",
   "execution_count": 6,
   "metadata": {},
   "outputs": [],
   "source": [
    "eps = 10e-6\n",
    "xn = x0\n",
    "yn = y0\n",
    "xn1 = fi_1(yn)\n",
    "yn1 = fi_2(xn)\n",
    "\n",
    "while max(abs(xn1 - xn), abs(yn1 - yn)) > eps:\n",
    "    xn = xn1\n",
    "    yn = yn1\n",
    "    xn1 = fi_1(yn)\n",
    "    yn1 = fi_2(xn)"
   ]
  },
  {
   "cell_type": "code",
   "execution_count": 7,
   "metadata": {},
   "outputs": [
    {
     "data": {
      "text/plain": [
       "0.6498927542756793"
      ]
     },
     "execution_count": 7,
     "metadata": {},
     "output_type": "execute_result"
    }
   ],
   "source": [
    "xn1"
   ]
  },
  {
   "cell_type": "code",
   "execution_count": 8,
   "metadata": {},
   "outputs": [
    {
     "data": {
      "text/plain": [
       "0.7600337724181813"
      ]
     },
     "execution_count": 8,
     "metadata": {},
     "output_type": "execute_result"
    }
   ],
   "source": [
    "yn1"
   ]
  },
  {
   "cell_type": "markdown",
   "metadata": {},
   "source": [
    "**Ответ:**"
   ]
  },
  {
   "cell_type": "code",
   "execution_count": 9,
   "metadata": {},
   "outputs": [
    {
     "name": "stdout",
     "output_type": "stream",
     "text": [
      "1) x =  0.6498927542756793\n",
      "   y =  0.7600337724181813\n",
      "2) x =  -0.6498927542756793\n",
      "   y =  -0.7600337724181813\n"
     ]
    }
   ],
   "source": [
    "print('1) x = ', xn1)\n",
    "print('   y = ', yn1)\n",
    "print('2) x = ', -xn1)\n",
    "print('   y = ', -yn1)"
   ]
  },
  {
   "cell_type": "code",
   "execution_count": null,
   "metadata": {},
   "outputs": [],
   "source": []
  },
  {
   "cell_type": "code",
   "execution_count": null,
   "metadata": {},
   "outputs": [],
   "source": []
  },
  {
   "cell_type": "code",
   "execution_count": null,
   "metadata": {},
   "outputs": [],
   "source": []
  },
  {
   "cell_type": "code",
   "execution_count": null,
   "metadata": {},
   "outputs": [],
   "source": []
  },
  {
   "cell_type": "code",
   "execution_count": null,
   "metadata": {},
   "outputs": [],
   "source": []
  },
  {
   "cell_type": "code",
   "execution_count": null,
   "metadata": {},
   "outputs": [],
   "source": []
  },
  {
   "cell_type": "code",
   "execution_count": null,
   "metadata": {},
   "outputs": [],
   "source": []
  },
  {
   "cell_type": "code",
   "execution_count": null,
   "metadata": {},
   "outputs": [],
   "source": []
  },
  {
   "cell_type": "code",
   "execution_count": null,
   "metadata": {},
   "outputs": [],
   "source": []
  },
  {
   "cell_type": "code",
   "execution_count": null,
   "metadata": {},
   "outputs": [],
   "source": []
  },
  {
   "cell_type": "code",
   "execution_count": null,
   "metadata": {},
   "outputs": [],
   "source": []
  },
  {
   "cell_type": "code",
   "execution_count": null,
   "metadata": {},
   "outputs": [],
   "source": []
  },
  {
   "cell_type": "code",
   "execution_count": null,
   "metadata": {},
   "outputs": [],
   "source": []
  },
  {
   "cell_type": "code",
   "execution_count": null,
   "metadata": {},
   "outputs": [],
   "source": []
  },
  {
   "cell_type": "code",
   "execution_count": null,
   "metadata": {},
   "outputs": [],
   "source": []
  },
  {
   "cell_type": "code",
   "execution_count": null,
   "metadata": {},
   "outputs": [],
   "source": []
  },
  {
   "cell_type": "code",
   "execution_count": null,
   "metadata": {},
   "outputs": [],
   "source": []
  },
  {
   "cell_type": "code",
   "execution_count": null,
   "metadata": {},
   "outputs": [],
   "source": []
  }
 ],
 "metadata": {
  "kernelspec": {
   "display_name": "Python 3",
   "language": "python",
   "name": "python3"
  },
  "language_info": {
   "codemirror_mode": {
    "name": "ipython",
    "version": 3
   },
   "file_extension": ".py",
   "mimetype": "text/x-python",
   "name": "python",
   "nbconvert_exporter": "python",
   "pygments_lexer": "ipython3",
   "version": "3.7.6"
  }
 },
 "nbformat": 4,
 "nbformat_minor": 4
}
